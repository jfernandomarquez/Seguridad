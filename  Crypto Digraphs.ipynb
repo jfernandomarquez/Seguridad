{
 "cells": [
  {
   "cell_type": "code",
   "execution_count": 1,
   "metadata": {
    "collapsed": false
   },
   "outputs": [
    {
     "name": "stdout",
     "output_type": "stream",
     "text": [
      "Congratulations. You decrypted this message successfully. Was not too difficult either* pas it$ Well* good job. Enter this keypord as solution: lobfhnnlmgos.\n"
     ]
    }
   ],
   "source": [
    "import collections\n",
    "\n",
    "line=\"ojdkjxkeehzgnemlchzgnebadkjxcmiv zzdkml fmozgqehiwhwneozfm nekgbacm xgozcmcmzgkeoz cmmlgqgqozcmcmmumlchchiwiv ihzgcm jxdkne nedkdk fmbamumubagqmlchne ozbanekgozehej wtzgcm banejy ihozchchej kedkdkfm exdkuciv mdjxneozeh nekgbacm ahoziwwtdkehfm zgcm cmdkchmlnebadkjxkc chdkucmukgjxjxchxgkedkcmiv\"\n",
    "\n",
    "l=\"\".join(line.split(\" \")) # Quitar los espacios en el mensaje cifrado(para poder agrupar de dos).\n",
    "L=[l[i:i+2] for i in range(0, len(l), 2)] # una lista cogiendo de a dos letras.\n",
    "\n",
    "cuenta=collections.Counter(L) #cuenta cuantas veces se repite cada par de letras\n",
    "comunes=cuenta.most_common(30) #Los ordena en una lista de dos dimensiones(par de letras-freq), empezando por el que más se repite.\n",
    "\n",
    "lStr='ostelinaurd.chgfy*mWpb$kjYp:EC'#las letras(Mayus y Min) y puntuación, por la cual se van a reemplazar los pares originales.\n",
    "llist=list(lStr) # lo mismo en lista, la primera letra se va a reemplazar por el par más común y asi sucesivamente\n",
    "\n",
    "for i in range(0,len(L)): # Para recorrer todos elementos de L(texto cifrado en pares)\n",
    "    for j in range(0,len(comunes)): # Para recorrer los pares -sin repetir y ordenamos por freq-\n",
    "        if L[i] == comunes[j][0]: # Busca donde esta(posición) cada par, y sabiendo la ubicación de ese par en \"comunes\"...\n",
    "            L[i]=llist[comunes.index(comunes[j])] #... busca esa misma ubicacion en \"llist\"\n",
    "#de esta manera, por ejemplo, el par más común que esta en la primera posición de \"comunes\", si lo encuentra lo va a reemplazar\n",
    "# por lo que tenga la primera posición de \"llist\" y así sucesivamente con el resto de pares.\n",
    "\n",
    "#\"llist\" contenia inicialmente las más comunes y se fue cambiando hasta encontrar las que se tiene ahora.\n",
    "#Nunca se encontro cuales caracteres iban donde esta el \"*\" y \"$\"\n",
    "\n",
    "#######  Esta última parte es la impresión, se hizo así para recuperar los espacios correspondientes.  #######\n",
    "print ''.join(L[:16])+\" \"+''.join(L[16:19])+\" \"+''.join(L[19:28])+\" \"+''.join(L[28:32])+\" \"+''.join(L[32:39])+\" \"+''.join(L[39:52])+\" \"+''.join(L[52:55])+\" \"+''.join(L[55:58])+\" \"+''.join(L[58:61])+\" \"+''.join(L[61:70])+\" \"+''.join(L[70:77])+\" \"+''.join(L[77:80])+\" \"+''.join(L[80:83])+\" \"+''.join(L[83:88])+\" \"+''.join(L[88:92])+\" \"+''.join(L[92:96])+\" \"+''.join(L[96:101])+\" \"+''.join(L[101:105])+\" \"+''.join(L[105:112])+\" \"+''.join(L[112:114])+\" \"+''.join(L[114:123])+\" \"+''.join(L[123:136])"
   ]
  }
 ],
 "metadata": {
  "kernelspec": {
   "display_name": "Python 2 (SageMath)",
   "language": "python",
   "name": "python2"
  },
  "language_info": {
   "codemirror_mode": {
    "name": "ipython",
    "version": 2
   },
   "file_extension": ".py",
   "mimetype": "text/x-python",
   "name": "python",
   "nbconvert_exporter": "python",
   "pygments_lexer": "ipython2",
   "version": "2.7.13"
  }
 },
 "nbformat": 4,
 "nbformat_minor": 0
}